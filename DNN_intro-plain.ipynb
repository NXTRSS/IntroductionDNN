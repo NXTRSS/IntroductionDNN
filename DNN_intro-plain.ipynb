{
 "cells": [
  {
   "cell_type": "markdown",
   "metadata": {
    "id": "MimDWIuX3bjH"
   },
   "source": [
    "# Classification (Wine dataset)\n",
    "\n",
    "This is a copy of UCI ML Wine recognition datasets. https://archive.ics.uci.edu/ml/machine-learning-databases/wine/wine.data\n",
    "\n",
    "The data is the results of a chemical analysis of wines grown in the same region in Italy by three different cultivators. There are thirteen different measurements taken for different constituents found in the three types of wine.\n",
    "\n",
    "Features:\n",
    "* Alcohol\n",
    "* Malic acid\n",
    "* Ash\n",
    "* Alcalinity of ash\n",
    "* Magnesium\n",
    "* Total phenols\n",
    "* Flavanoids\n",
    "* Nonflavanoid phenols\n",
    "* Proanthocyanins\n",
    "* Color intensity\n",
    "* Hue\n",
    "* OD280/OD315 of diluted wines\n",
    "* Proline"
   ]
  },
  {
   "cell_type": "code",
   "execution_count": 1,
   "metadata": {
    "id": "4imegW6Y3bjH"
   },
   "outputs": [],
   "source": [
    "# pobranie bibliotek\n",
    "from sklearn.neural_network import MLPClassifier\n",
    "from sklearn.model_selection import train_test_split\n",
    "from sklearn.datasets import load_wine\n",
    "from sklearn.preprocessing import StandardScaler\n",
    "from sklearn.metrics import classification_report, f1_score\n",
    "import pandas as pd\n",
    "import time\n",
    "\n",
    "import warnings\n",
    "warnings.filterwarnings('ignore')"
   ]
  },
  {
   "cell_type": "code",
   "execution_count": 2,
   "metadata": {
    "id": "8rpLtun23bjH"
   },
   "outputs": [],
   "source": [
    "#ściągnięcie danych 'wine'\n",
    "wine_dataset = load_wine()\n",
    "X = pd.DataFrame(wine_dataset.data, columns=wine_dataset.feature_names)\n",
    "y = wine_dataset.target"
   ]
  },
  {
   "cell_type": "code",
   "execution_count": 3,
   "metadata": {
    "colab": {
     "base_uri": "https://localhost:8080/",
     "height": 636
    },
    "id": "TBdVb7py3bjH",
    "outputId": "8e44d2d4-615b-4b5e-8676-46c1479ca87c"
   },
   "outputs": [],
   "source": [
    "#zobaczmy jak wyglądają dane (X i Y)\n"
   ]
  },
  {
   "cell_type": "code",
   "execution_count": 4,
   "metadata": {
    "id": "7ziRHIPm3bjI"
   },
   "outputs": [],
   "source": [
    "#podział na podzbiór treningowy i testowy\n"
   ]
  },
  {
   "cell_type": "code",
   "execution_count": 5,
   "metadata": {
    "id": "NtU8TTM83bjI"
   },
   "outputs": [],
   "source": [
    "#skalowanie danych i przypisanie do zmiennych X_train_sc i X_test_sc\n"
   ]
  },
  {
   "cell_type": "code",
   "execution_count": 6,
   "metadata": {
    "colab": {
     "base_uri": "https://localhost:8080/"
    },
    "id": "1Z3kDLxs3bjI",
    "outputId": "7bdd8755-06c6-430f-f2e9-5a96da1501b5"
   },
   "outputs": [],
   "source": [
    "#model MLP do zadań klasyfikacji, liczba warstw ukrytych: 8 i 4, funkcja aktywcaji\n",
    "# relu, algorytm optymalizatora: adam, random_state: 42, liczba epok: 1000, \n",
    "# liczność batcha: 32\n",
    "\n",
    "\n",
    "#po zainicjalizowaniu powyższego obiektu proszę go wytrenować\n",
    "\n"
   ]
  },
  {
   "cell_type": "code",
   "execution_count": null,
   "metadata": {
    "colab": {
     "base_uri": "https://localhost:8080/"
    },
    "id": "KDnknbrH5_KW",
    "outputId": "fb3b54eb-9924-4dcb-85ab-6fd85391dc21"
   },
   "outputs": [],
   "source": []
  },
  {
   "cell_type": "code",
   "execution_count": 7,
   "metadata": {
    "colab": {
     "base_uri": "https://localhost:8080/"
    },
    "id": "6QWBAhVp3bjI",
    "outputId": "093cc125-5231-4ef6-cef5-31609cff00b4"
   },
   "outputs": [],
   "source": [
    "#wyznaczenie predykcji dla zbioru testowego oraz wypisanie raportu klasyfikacji\n"
   ]
  },
  {
   "cell_type": "code",
   "execution_count": 8,
   "metadata": {
    "colab": {
     "base_uri": "https://localhost:8080/"
    },
    "id": "l2j7uVoL6f9E",
    "outputId": "77108bc1-9d0a-47e4-b5f5-8dd854c3a422"
   },
   "outputs": [],
   "source": [
    "#badanie dotyczące różnych liczności neuronów w sieci:\n",
    "# [(10,), (100,), (10,5), (10, 5, 3)]\n",
    "\n",
    "# warnings.filterwarnings(action='once')\n"
   ]
  },
  {
   "cell_type": "code",
   "execution_count": 9,
   "metadata": {
    "colab": {
     "base_uri": "https://localhost:8080/"
    },
    "id": "5C3U0Nfs8crt",
    "outputId": "caaf1f6f-c46e-458d-d351-dcc152a0b4c3"
   },
   "outputs": [],
   "source": [
    "#badanie dotyczące różnych funkcji aktywacji w sieci:\n",
    "# ['identity', 'logistic', 'tanh', 'relu']\n",
    "\n",
    "# warnings.filterwarnings(action='once')\n"
   ]
  },
  {
   "cell_type": "code",
   "execution_count": 10,
   "metadata": {
    "colab": {
     "base_uri": "https://localhost:8080/"
    },
    "id": "fKeIRD_S9NWn",
    "outputId": "e00abae3-7a80-46dc-b0a5-3faa5e32e30b"
   },
   "outputs": [],
   "source": [
    "#badanie dotyczące różnych funkcji aktywacji w sieci:\n",
    "# [2, 16, 64, 128]\n",
    "# dodatkowo: proszę również zmierzyć czas trenowania\n",
    "\n",
    "# warnings.filterwarnings(action='once')\n"
   ]
  },
  {
   "cell_type": "code",
   "execution_count": 11,
   "metadata": {
    "colab": {
     "base_uri": "https://localhost:8080/"
    },
    "id": "9zAq7TFz-jn5",
    "outputId": "81852261-6ce7-48bd-8501-8f4271e1a880"
   },
   "outputs": [],
   "source": [
    "#badanie dotyczące różnych funkcji aktywacji w sieci:\n",
    "# [10, 20, 50, 200]\n",
    "# dodatkowo: proszę również zmierzyć czas trenowania\n",
    "\n",
    "# warnings.filterwarnings(action='once')\n"
   ]
  },
  {
   "cell_type": "markdown",
   "metadata": {
    "id": "wnv1-EZX3bjB"
   },
   "source": [
    "### Regression (California housing dataset)"
   ]
  },
  {
   "cell_type": "markdown",
   "metadata": {
    "id": "iUmsP7J93bjD"
   },
   "source": [
    "This dataset was obtained from the StatLib repository. http://lib.stat.cmu.edu/datasets/\n",
    "\n",
    "The target variable is the median house value for California districts.\n",
    "\n",
    "This dataset was derived from the 1990 U.S. census, using one row per census block group. A block group is the smallest geographical unit for which the U.S. Census Bureau publishes sample data (a block group typically has a population of 600 to 3,000 people).\n",
    "\n",
    "Features:\n",
    "* MedInc median income in block\n",
    "* HouseAge median house age in block\n",
    "* AveRooms average number of rooms\n",
    "* AveBedrms average number of bedrooms\n",
    "* Population block population\n",
    "* AveOccup average house occupancy\n",
    "* Latitude house block latitude\n",
    "* Longitude house block longitude"
   ]
  },
  {
   "cell_type": "code",
   "execution_count": 12,
   "metadata": {
    "id": "PufhyLRl3bjE"
   },
   "outputs": [],
   "source": [
    "# pobranie bibliotek\n",
    "from sklearn.neural_network import MLPRegressor\n",
    "from sklearn.model_selection import train_test_split\n",
    "from sklearn.datasets import fetch_california_housing\n",
    "from sklearn.preprocessing import StandardScaler\n",
    "from sklearn.metrics import r2_score\n",
    "import pandas as pd"
   ]
  },
  {
   "cell_type": "code",
   "execution_count": 13,
   "metadata": {
    "id": "cssqhggU3bjF"
   },
   "outputs": [],
   "source": [
    "#ściągnięcie danych 'california housing'\n",
    "cal_housing = fetch_california_housing()\n",
    "X = pd.DataFrame(cal_housing.data, columns=cal_housing.feature_names)\n",
    "y = cal_housing.target"
   ]
  },
  {
   "cell_type": "code",
   "execution_count": 14,
   "metadata": {
    "colab": {
     "base_uri": "https://localhost:8080/",
     "height": 500
    },
    "id": "2dec6KCe3bjF",
    "outputId": "1d94dd9c-607e-4da2-a0fa-d775779cef0c"
   },
   "outputs": [],
   "source": [
    "#zobaczmy jak wyglądają dane (X i Y)\n"
   ]
  },
  {
   "cell_type": "code",
   "execution_count": 15,
   "metadata": {
    "id": "zHXaUg3k3bjG"
   },
   "outputs": [],
   "source": [
    "#podział na podzbiór treningowy i testowy\n"
   ]
  },
  {
   "cell_type": "code",
   "execution_count": 16,
   "metadata": {
    "id": "Cf_AdrWf3bjG"
   },
   "outputs": [],
   "source": [
    "#skalowanie danych i przypisanie do zmiennych X_train_sc i X_test_sc\n"
   ]
  },
  {
   "cell_type": "code",
   "execution_count": 17,
   "metadata": {
    "colab": {
     "base_uri": "https://localhost:8080/"
    },
    "id": "xKUaHcoK3bjG",
    "outputId": "5844ab06-e112-4b30-afff-3653a6f9ae3e"
   },
   "outputs": [],
   "source": [
    "#model MLP do zadań regresji, liczba warstw ukrytych:16,  8 i 4, funkcja aktywcaji\n",
    "# relu, algorytm optymalizatora: adam, random_state: 42, liczba epok: 1000, \n",
    "# liczność batcha: 64\n",
    "\n",
    "\n",
    "#po zainicjalizowaniu powyższego obiektu proszę go wytrenować\n",
    "\n"
   ]
  },
  {
   "cell_type": "code",
   "execution_count": 18,
   "metadata": {
    "colab": {
     "base_uri": "https://localhost:8080/"
    },
    "id": "2f5I6x7h3bjG",
    "outputId": "416dd301-2769-45fd-9aac-ce1130be546c"
   },
   "outputs": [],
   "source": [
    "#wyznaczenie predykcji dla zbioru testowego oraz wartości R2\n"
   ]
  },
  {
   "cell_type": "code",
   "execution_count": null,
   "metadata": {
    "id": "o9QUQZwiCx7o"
   },
   "outputs": [],
   "source": []
  }
 ],
 "metadata": {
  "colab": {
   "collapsed_sections": [],
   "name": "DNN_intro.ipynb",
   "provenance": []
  },
  "kernelspec": {
   "display_name": "Python (ml_basic)",
   "language": "python",
   "name": "ml_basic"
  },
  "language_info": {
   "codemirror_mode": {
    "name": "ipython",
    "version": 3
   },
   "file_extension": ".py",
   "mimetype": "text/x-python",
   "name": "python",
   "nbconvert_exporter": "python",
   "pygments_lexer": "ipython3",
   "version": "3.9.7"
  }
 },
 "nbformat": 4,
 "nbformat_minor": 1
}
